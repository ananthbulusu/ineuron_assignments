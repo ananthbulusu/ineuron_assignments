{
 "cells": [
  {
   "cell_type": "code",
   "execution_count": 3,
   "id": "533f4cdd",
   "metadata": {},
   "outputs": [
    {
     "name": "stdout",
     "output_type": "stream",
     "text": [
      "['SAS', 'R', 'PYTHON', 'SPARK']\n"
     ]
    }
   ],
   "source": [
    "#List_remove_append\n",
    "input_list=['SAS', 'R', 'PYTHON', 'SPSS']\n",
    "input_list[input_list.index('SPSS')]='SPARK'\n",
    "print(input_list)"
   ]
  },
  {
   "cell_type": "code",
   "execution_count": 4,
   "id": "71858847",
   "metadata": {},
   "outputs": [
    {
     "data": {
      "text/plain": [
       "['I love Data Science ', ' Python']"
      ]
     },
     "execution_count": 4,
     "metadata": {},
     "output_type": "execute_result"
    }
   ],
   "source": [
    "#String to List Conversion\n",
    "\n",
    "input_str='I love Data Science & Python'\n",
    "input_str.split('&')"
   ]
  },
  {
   "cell_type": "code",
   "execution_count": 8,
   "id": "6d0571b6",
   "metadata": {},
   "outputs": [
    {
     "data": {
      "text/plain": [
       "'Pythons syntax is easy to learn & Pythons syntax is very clear'"
      ]
     },
     "execution_count": 8,
     "metadata": {},
     "output_type": "execute_result"
    }
   ],
   "source": [
    "#List to String Conversion\n",
    "lst= ['Pythons syntax is easy to learn', 'Pythons syntax is very clear']\n",
    "str1=''\n",
    "for i in lst:\n",
    "    if (lst.index(i)==0):\n",
    "        str1=i\n",
    "    else:\n",
    "        str1=str1+' & '+i \n",
    "str1"
   ]
  },
  {
   "cell_type": "code",
   "execution_count": 10,
   "id": "47c7d9dd",
   "metadata": {},
   "outputs": [
    {
     "data": {
      "text/plain": [
       "'Python'"
      ]
     },
     "execution_count": 10,
     "metadata": {},
     "output_type": "execute_result"
    }
   ],
   "source": [
    "#Nested List\n",
    "input_list = [['SAS','R'],['Tableau','SQL'],['Python','Java']]\n",
    "input_list[2][0]"
   ]
  },
  {
   "cell_type": "code",
   "execution_count": 11,
   "id": "a7a54c1e",
   "metadata": {},
   "outputs": [
    {
     "data": {
      "text/plain": [
       "'s'"
      ]
     },
     "execution_count": 11,
     "metadata": {},
     "output_type": "execute_result"
    }
   ],
   "source": [
    "#It’s the time to disco\n",
    "\n",
    "t = (\"disco\", 12, 4.5)\n",
    "t[0][2]"
   ]
  },
  {
   "cell_type": "code",
   "execution_count": 27,
   "id": "c21b0bde",
   "metadata": {},
   "outputs": [
    {
     "name": "stdout",
     "output_type": "stream",
     "text": [
      "0\n"
     ]
    }
   ],
   "source": [
    "#String Palindrome\n",
    "str1='Ananth'\n",
    "\n",
    "str1_list = [x for x in str1]\n",
    "str2=str1_list[::-1]\n",
    "if (str1_list==str2):\n",
    "    print(1)\n",
    "else:\n",
    "    print(0)"
   ]
  },
  {
   "cell_type": "code",
   "execution_count": 30,
   "id": "1c0dfb5c",
   "metadata": {},
   "outputs": [
    {
     "data": {
      "text/plain": [
       "'string a is this'"
      ]
     },
     "execution_count": 30,
     "metadata": {},
     "output_type": "execute_result"
    }
   ],
   "source": [
    "#Reverse Words\n",
    "str1=\"this is a string\"\n",
    "\n",
    "str1_lst=str1.split()\n",
    "str1_lst_rvrs=str1_lst[::-1]\n",
    "\n",
    "str2=''\n",
    "for i in str1_lst_rvrs:\n",
    "    if (str1_lst_rvrs.index(i)==0):\n",
    "        str2=i\n",
    "    else:\n",
    "        str2=str2+' '+i \n",
    "\n",
    "str2"
   ]
  },
  {
   "cell_type": "code",
   "execution_count": 35,
   "id": "90453d6a",
   "metadata": {},
   "outputs": [
    {
     "name": "stdout",
     "output_type": "stream",
     "text": [
      "calorie_consumed\n"
     ]
    }
   ],
   "source": [
    "#String Formatting\n",
    "str1=\"caloRie ConsuMed\"\n",
    "\n",
    "str1=str1.lower()\n",
    "str1=str1.replace(' ','_')\n",
    "print(str1)"
   ]
  },
  {
   "cell_type": "code",
   "execution_count": 38,
   "id": "a712c050",
   "metadata": {},
   "outputs": [
    {
     "ename": "SyntaxError",
     "evalue": "invalid syntax (<ipython-input-38-597d20ebc775>, line 1)",
     "output_type": "error",
     "traceback": [
      "\u001b[1;36m  File \u001b[1;32m\"<ipython-input-38-597d20ebc775>\"\u001b[1;36m, line \u001b[1;32m1\u001b[0m\n\u001b[1;33m    How will you extract ‘love’ from the string S = “I love Python”? (More than one\u001b[0m\n\u001b[1;37m        ^\u001b[0m\n\u001b[1;31mSyntaxError\u001b[0m\u001b[1;31m:\u001b[0m invalid syntax\n"
     ]
    }
   ],
   "source": [
    "How will you extract ‘love’ from the string S = “I love Python”? (More than one\n",
    "option may be correct.).\n",
    "a. S[2:5]\n",
    "b. S[2:6]\n",
    "c. S[3:7]\n",
    "d. S[-11:-7]\n",
    "e. S[-11:-8]\n",
    "\n",
    "\n",
    "Answer: b,e"
   ]
  },
  {
   "cell_type": "code",
   "execution_count": null,
   "id": "e53e2e12",
   "metadata": {},
   "outputs": [],
   "source": [
    "What will the output of 3 * 3 ** 3 be?\n",
    "a. 9\n",
    "b. 27\n",
    "c. 81\n",
    "d. 729\n",
    "\n",
    "answer: C"
   ]
  },
  {
   "cell_type": "code",
   "execution_count": 43,
   "id": "685b730d",
   "metadata": {},
   "outputs": [
    {
     "ename": "SyntaxError",
     "evalue": "invalid syntax (<ipython-input-43-c734d592acbd>, line 1)",
     "output_type": "error",
     "traceback": [
      "\u001b[1;36m  File \u001b[1;32m\"<ipython-input-43-c734d592acbd>\"\u001b[1;36m, line \u001b[1;32m1\u001b[0m\n\u001b[1;33m    What will the output be of ((500//7) % 5) ** 3?\u001b[0m\n\u001b[1;37m         ^\u001b[0m\n\u001b[1;31mSyntaxError\u001b[0m\u001b[1;31m:\u001b[0m invalid syntax\n"
     ]
    }
   ],
   "source": [
    "What will the output be of ((500//7) % 5) ** 3?\n",
    "a. 1\n",
    "b. 2.91\n",
    "c. 71.42\n",
    "d. 0\n",
    "e. 8\n",
    "\n",
    "Answer: A"
   ]
  },
  {
   "cell_type": "code",
   "execution_count": null,
   "id": "ca00bfe0",
   "metadata": {},
   "outputs": [],
   "source": [
    "4. If you have a tuple T = (3, 5, 7, 11), what will the output of T.append(9) be?\n",
    "a. (3, 5, 7, 9, 11)\n",
    "b. (9, 3, 5, 7, 11)\n",
    "c. (3, 5, 7, 11, 9)\n",
    "d. Error\n",
    "\n",
    "Answer: D"
   ]
  },
  {
   "cell_type": "code",
   "execution_count": null,
   "id": "b7234910",
   "metadata": {},
   "outputs": [],
   "source": [
    "6. What will the output of the following code be?\n",
    "a. 5\n",
    "b. 6\n",
    "c. 7\n",
    "d. The code will throw an error\n",
    "\n",
    "ANswer: d"
   ]
  },
  {
   "cell_type": "code",
   "execution_count": null,
   "id": "34c3483c",
   "metadata": {},
   "outputs": [],
   "source": [
    "7. Which of the following statements is incorrect regarding sets in Python?\n",
    "a. Sets do not contain duplicate elements\n",
    "b. Sets are represented using curly braces {}\n",
    "c. Sets are immutable\n",
    "d. All of the above\n",
    "\n",
    "Aswer: C\n",
    "    "
   ]
  },
  {
   "cell_type": "code",
   "execution_count": null,
   "id": "ceb4329d",
   "metadata": {},
   "outputs": [],
   "source": [
    "8. What will the output be of the following code?\n",
    "a. 1\n",
    "2\n",
    "3\n",
    "b. [‘Raj’, 22]\n",
    "[‘Simran’, 21]\n",
    "[‘Rahul’, 40]\n",
    "c. 1 [‘Raj’, 22]\n",
    "2 [‘Simran’, 21]\n",
    "3 [‘Rahul’, 40]\n",
    "d. ‘Raj’\n",
    "‘Simran’\n",
    "‘Rahul’\n",
    "\n",
    "Answer: b"
   ]
  },
  {
   "cell_type": "code",
   "execution_count": null,
   "id": "2aa31f9d",
   "metadata": {},
   "outputs": [],
   "source": [
    "9. What will the ‘comprehension equivalent’ be for the following snippet of code?\n",
    "a. word for sentence in paragraph for word in sentence.split()\n",
    "b. [word for sentence in paragraph for word in sentence.split()]\n",
    "c. word for word in sentence.split() for sentence in paragraph\n",
    "d. [word for word in sentence.split() for sentence in paragraph]\n",
    "\n",
    "ANswer: d"
   ]
  },
  {
   "cell_type": "code",
   "execution_count": null,
   "id": "eb124eed",
   "metadata": {},
   "outputs": [],
   "source": [
    "What will be the output of this code?\n",
    "a. [10, 9, 8, 7, 6, 5, 4, 3, 2, 1]\n",
    "b. [9, 8, 7, 6, 5, 4, 3, 2]\n",
    "c. [9, 8, 7, 6, 5, 4, 3, 2, 1]\n",
    "d. [10, 9, 8, 7, 6, 5, 4, 3, 2]\n",
    "\n",
    "ANswer: A"
   ]
  }
 ],
 "metadata": {
  "kernelspec": {
   "display_name": "Python 3",
   "language": "python",
   "name": "python3"
  },
  "language_info": {
   "codemirror_mode": {
    "name": "ipython",
    "version": 3
   },
   "file_extension": ".py",
   "mimetype": "text/x-python",
   "name": "python",
   "nbconvert_exporter": "python",
   "pygments_lexer": "ipython3",
   "version": "3.8.8"
  }
 },
 "nbformat": 4,
 "nbformat_minor": 5
}
